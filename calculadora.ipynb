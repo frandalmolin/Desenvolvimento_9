{
  "nbformat": 4,
  "nbformat_minor": 0,
  "metadata": {
    "colab": {
      "provenance": [],
      "authorship_tag": "ABX9TyNwbj/GaI68fRFIni5YAP1M",
      "include_colab_link": true
    },
    "kernelspec": {
      "name": "python3",
      "display_name": "Python 3"
    },
    "language_info": {
      "name": "python"
    }
  },
  "cells": [
    {
      "cell_type": "markdown",
      "metadata": {
        "id": "view-in-github",
        "colab_type": "text"
      },
      "source": [
        "<a href=\"https://colab.research.google.com/github/frandalmolin/Desenvolvimento_9/blob/main/calculadora.ipynb\" target=\"_parent\"><img src=\"https://colab.research.google.com/assets/colab-badge.svg\" alt=\"Open In Colab\"/></a>"
      ]
    },
    {
      "cell_type": "markdown",
      "source": [
        "Faça uma função calculadora que os números e as operações serão feitas pelo usuário. O código deve ficar rodando infinitamente até que o usuário escolha a opção de sair. No início, o programa mostrará a seguinte lista de operações:\n",
        "\n",
        "1: Soma\n",
        "2: Subtração\n",
        "3: Multiplicação\n",
        "4: Divisão\n",
        "0: Sair\n",
        "\n",
        "Digite o número para a operação correspondente e caso o usuário introduza qualquer outro, o sistema deve mostrar a mensagem “Essa opção não existe” e voltar ao menu de opções.\n",
        "\n",
        "Após a seleção, o sistema deve pedir para o usuário inserir o primeiro e segundo valor, um de cada. Depois precisa executar a operação e mostrar o resultado na tela. Quando o usuário escolher a opção “Sair”, o sistema irá parar.\n",
        "\n",
        "É necessário que o sistema mostre as opções sempre que finalizar uma operação e mostrar o resultado."
      ],
      "metadata": {
        "id": "umP-25sE_CNC"
      }
    },
    {
      "cell_type": "code",
      "execution_count": 3,
      "metadata": {
        "colab": {
          "base_uri": "https://localhost:8080/"
        },
        "id": "2INQdsZ-_Au_",
        "outputId": "80427e8a-9432-4062-f24d-075bf09e1d65"
      },
      "outputs": [
        {
          "name": "stdout",
          "output_type": "stream",
          "text": [
            "Escolha uma operação:\n",
            "1: Soma\n",
            "2: Subtração\n",
            "3: Multiplicação\n",
            "4: Divisão\n",
            "0: Sair\n",
            "Digite o número da operação desejada: 3\n",
            "Digite o primeiro valor: 5\n",
            "Digite o segundo valor: 3\n",
            "Resultado: 15.0\n",
            "\n",
            "Escolha uma operação:\n",
            "1: Soma\n",
            "2: Subtração\n",
            "3: Multiplicação\n",
            "4: Divisão\n",
            "0: Sair\n",
            "Digite o número da operação desejada: 0\n"
          ]
        }
      ],
      "source": [
        "def soma(a, b):\n",
        "    return a + b\n",
        "\n",
        "def subtracao(a, b):\n",
        "    return a - b\n",
        "\n",
        "def multiplicacao(a, b):\n",
        "    return a * b\n",
        "\n",
        "def divisao(a, b):\n",
        "    if b == 0:\n",
        "        return \"Erro: divisão por zero\"\n",
        "    return a / b\n",
        "\n",
        "while True:\n",
        "    print(\"Escolha uma operação:\")\n",
        "    print(\"1: Soma\")\n",
        "    print(\"2: Subtração\")\n",
        "    print(\"3: Multiplicação\")\n",
        "    print(\"4: Divisão\")\n",
        "    print(\"0: Sair\")\n",
        "\n",
        "    escolha = input(\"Digite o número da operação desejada: \")\n",
        "\n",
        "    if escolha == \"0\":\n",
        "        break\n",
        "    elif escolha not in [\"1\", \"2\", \"3\", \"4\"]:\n",
        "        print(\"Essa opção não existe\")\n",
        "        continue\n",
        "\n",
        "    primeiro_numero = float(input(\"Digite o primeiro valor: \"))\n",
        "    segundo_numero = float(input(\"Digite o segundo valor: \"))\n",
        "\n",
        "    if escolha == \"1\":\n",
        "        resultado = soma(primeiro_numero, segundo_numero)\n",
        "    elif escolha == \"2\":\n",
        "        resultado = subtracao(primeiro_numero, segundo_numero)\n",
        "    elif escolha == \"3\":\n",
        "        resultado = multiplicacao(primeiro_numero, segundo_numero)\n",
        "    elif escolha == \"4\":\n",
        "        resultado = divisao(primeiro_numero, segundo_numero)\n",
        "\n",
        "    print(f\"Resultado: {resultado}\\n\")"
      ]
    }
  ]
}