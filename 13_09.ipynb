{
  "nbformat": 4,
  "nbformat_minor": 0,
  "metadata": {
    "colab": {
      "provenance": [],
      "authorship_tag": "ABX9TyMwLDo2oquSPsqx4GsZXwMA",
      "include_colab_link": true
    },
    "kernelspec": {
      "name": "python3",
      "display_name": "Python 3"
    },
    "language_info": {
      "name": "python"
    }
  },
  "cells": [
    {
      "cell_type": "markdown",
      "metadata": {
        "id": "view-in-github",
        "colab_type": "text"
      },
      "source": [
        "<a href=\"https://colab.research.google.com/github/frandalmolin/Desenvolvimento_9/blob/main/13_09.ipynb\" target=\"_parent\"><img src=\"https://colab.research.google.com/assets/colab-badge.svg\" alt=\"Open In Colab\"/></a>"
      ]
    },
    {
      "cell_type": "markdown",
      "source": [
        "Desenvolva um programa que recebe do usuário nome completo e ano de nascimento que seja entre 1922 e 2021.\n",
        "A partir dessas informações, o sistema mostrará o nome do usuário e a idade que completou, ou completará, no ano atual (2022).\n",
        "\n",
        "Caso o usuário não digite um número ou apareça um inválido no campo do ano, o sistema informará o erro e continuará perguntando até que um valor correto seja preenchido.\n"
      ],
      "metadata": {
        "id": "O4_NJH0Q1JMI"
      }
    },
    {
      "cell_type": "code",
      "source": [
        "nomeUsuario = input(\"Digite seu nome completo: \")\n",
        "\n",
        "while True:\n",
        "    try:\n",
        "        nascimentoUsuario = int(input(\"Digite seu ano de nascimento (1922-2021): \"))\n",
        "        if 1922 <= nascimentoUsuario <= 2021:\n",
        "            break\n",
        "        else:\n",
        "            print(\"Ano de nascimento inválido. Tente novamente.\")\n",
        "    except ValueError:\n",
        "        print(\"Entrada inválida. Tente novamente.\")\n",
        "\n",
        "idade = 2022 - nascimentoUsuario\n",
        "\n",
        "print(\"Nome do usuário:\", nomeUsuario)\n",
        "print(\"Idade:\", idade)"
      ],
      "metadata": {
        "colab": {
          "base_uri": "https://localhost:8080/"
        },
        "id": "I17dhwaf1Jn_",
        "outputId": "ccbd2767-b09f-4a45-9adc-fca0f96242f2"
      },
      "execution_count": 2,
      "outputs": [
        {
          "output_type": "stream",
          "name": "stdout",
          "text": [
            "Digite seu nome completo: fran\n",
            "Digite seu ano de nascimento (1922-2021): 1999\n",
            "Nome do usuário: fran\n",
            "Idade: 23\n"
          ]
        }
      ]
    }
  ]
}