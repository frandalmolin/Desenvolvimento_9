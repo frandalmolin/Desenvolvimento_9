{
  "nbformat": 4,
  "nbformat_minor": 0,
  "metadata": {
    "colab": {
      "provenance": [],
      "authorship_tag": "ABX9TyMV7qCziVlESQIzlKjmunts",
      "include_colab_link": true
    },
    "kernelspec": {
      "name": "python3",
      "display_name": "Python 3"
    },
    "language_info": {
      "name": "python"
    }
  },
  "cells": [
    {
      "cell_type": "markdown",
      "metadata": {
        "id": "view-in-github",
        "colab_type": "text"
      },
      "source": [
        "<a href=\"https://colab.research.google.com/github/frandalmolin/Desenvolvimento_9/blob/main/Untitled1.ipynb\" target=\"_parent\"><img src=\"https://colab.research.google.com/assets/colab-badge.svg\" alt=\"Open In Colab\"/></a>"
      ]
    },
    {
      "cell_type": "code",
      "execution_count": 9,
      "metadata": {
        "colab": {
          "base_uri": "https://localhost:8080/"
        },
        "id": "cuzFJI4E7B-I",
        "outputId": "db2163bd-db85-4747-87f4-1547a4639bf8"
      },
      "outputs": [
        {
          "output_type": "stream",
          "name": "stdout",
          "text": [
            "6\n"
          ]
        }
      ],
      "source": [
        "def calculadora(num1, num2):\n",
        "    resultadoSoma = num1 + num2\n",
        "    resultadoSubtracao = num1 - num2\n",
        "    resultadoMultiplicacao = num1 * num2\n",
        "    resultadoDivisao = num1 / num2\n",
        "\n",
        "    if resultadoSoma:\n",
        "        return resultadoSoma\n",
        "\n",
        "    elif resultadoSubtracao:\n",
        "        return resultadoSubtracao\n",
        "\n",
        "    elif resultadoMultiplicacao:\n",
        "        return resultadoMultiplicacao\n",
        "\n",
        "    elif resultadoDivisao:\n",
        "        return resultadoDivisao\n",
        "\n",
        "    else:\n",
        "        return \"0\"\n",
        "\n",
        "num1 = 1\n",
        "num2 = 5\n",
        "resultado = calculadora(num1, num2)\n",
        "print(resultado)\n",
        "\n",
        "\n"
      ]
    }
  ]
}